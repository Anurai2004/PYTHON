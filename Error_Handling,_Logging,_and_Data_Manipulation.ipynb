{
  "nbformat": 4,
  "nbformat_minor": 0,
  "metadata": {
    "colab": {
      "provenance": []
    },
    "kernelspec": {
      "name": "python3",
      "display_name": "Python 3"
    },
    "language_info": {
      "name": "python"
    }
  },
  "cells": [
    {
      "cell_type": "markdown",
      "source": [
        "**Q1. What is the difference between multithreading and multiprocessing?**\n",
        "\n",
        " Multiprocessing is a system that has more than one or two processors. In Multiprocessing, CPUs are added to increase the computing speed of the system. Because of Multiprocessing, There are many processes are executed simultaneously. Explore more about similar topics. Multiprocessing is classified into two categories:\n",
        "1. Symmetric Multiprocessing\n",
        "2. Asymmetric Multiprocessing\n",
        "\n",
        "\n",
        "Multithreading is a system in which multiple threads are created of a process for increasing the computing speed of the system. In multithreading, many threads of a process are executed simultaneously and process creation in multithreading is done according to economical.\n",
        "\n",
        "\n"
      ],
      "metadata": {
        "id": "7izTnh-FF7bK"
      }
    },
    {
      "cell_type": "markdown",
      "source": [],
      "metadata": {
        "id": "3R3PqjmfGb6S"
      }
    },
    {
      "cell_type": "markdown",
      "source": [
        "**Q2 What are the challenges associated with memory management in Python?**\n",
        "\n",
        " Memory management is how Python allocates, uses, and frees memory for objects. Python abstracts many details, but challenges remain.\n",
        "\n",
        " Key challenges:\n",
        " 1. Garbage Collection and Reference Cycles:\n",
        " - Python uses reference counting (CPython) plus a cyclic garbage collector. Reference cycles (A -> B -> A) can cause memory to remain allocated if not detected.\n",
        "\n",
        " 2. Memory Leaks:\n",
        " - Memory leaks can happen when objects are unintentionally referenced (e.g., in global lists or caches), preventing GC from freeing them.\n",
        "\n",
        " 3. Large Data Structures:\n",
        " - Storing large lists, dictionaries, or dataframes consumes lots of memory. Inefficient data formats or unnecessary copies increase use.\n",
        "\n",
        " 4. Fragmentation:\n",
        " - Repeated allocation and deallocation can fragment memory, leading to higher overall memory usage.\n",
        "\n",
        " 5. Third-party Libraries and Native Extensions:\n",
        " - C extensions or external libraries may allocate memory outside Python's control, complicating tracking and cleanup.\n",
        "\n",
        " 6. Multi-process/multi-thread use:\n",
        " - Using many processes duplicates memory. Threads share memory but must avoid accidental retention.\n",
        "\n",
        " Mitigation techniques:\n",
        " - Use generators and iterators to process data streams instead of loading everything into memory.\n",
        " - Use `del` to remove references, `gc` module to debug/collect cycles, and weak references (`weakref`) for caches.\n"
      ],
      "metadata": {
        "id": "cYi3V6ITH3Fa"
      }
    },
    {
      "cell_type": "markdown",
      "source": [
        "**Q6. What are the differences between NumPy arrays and Python lists?**\n",
        "\n",
        " NumPy arrays and Python lists both hold collections of items, but they have significant differences in performance and capabilities.\n",
        "\n",
        " Differences:\n",
        " 1. Homogeneous vs Heterogeneous:\n",
        " - NumPy arrays are homogenous (single data type) for efficient storage and computation.\n",
        " -  Lists can contain mixed types.\n",
        "\n",
        " 2. Memory and Performance:\n",
        " - NumPy uses contiguous memory blocks and C-optimized routines, so operations are much faster and memory efficient compared to lists.\n",
        "\n",
        " 3. Vectorized Operations:\n",
        " - NumPy supports element-wise operations without Python loops (fast). Lists require loops or list comprehensions.\n",
        "\n",
        " 4. Functionality:\n",
        " - NumPy provides math functions, linear algebra, broadcasting and slicing features not available in raw lists.\n",
        "\n",
        " 5. Use cases:\n",
        " - Use NumPy for numerical computing, large datasets, and when performance matters. Use lists for general-purpose collections and variable types"
      ],
      "metadata": {
        "id": "Qf3fM7PrINNl"
      }
    },
    {
      "cell_type": "markdown",
      "source": [],
      "metadata": {
        "id": "da5oXRwVH0UF"
      }
    },
    {
      "cell_type": "markdown",
      "source": [
        "**Q7.Explain the difference between apply() and map() in Pandas.**\n",
        "\n",
        "Both `apply()` and `map()` are used to apply functions to pandas objects, but they differ in scope and behavior.\n",
        "\n",
        " map():\n",
        " - Used mainly on Series. It maps values of a Series using a function, dict, or Series. It is element-wise and returns a new Series.\n",
        " - Example use: replacing values from a lookup dict or applying a simple function to each element.\n",
        "\n",
        " apply():\n",
        " - More general. Works on both Series and DataFrame. On DataFrame, `apply()` can apply a function row-wise or column-wise.\n",
        " - The function passed to `apply()` can return scalars, Series or even arrays, allowing more complex transformations.\n",
        "\n",
        " Key differences:\n",
        " - `map()` is faster and simpler for element-wise operations on Series.\n",
        " - `apply()` is more flexible and can operate on entire rows/columns (DataFrame) or perform aggregation."
      ],
      "metadata": {
        "id": "uxmosTT7JlnF"
      }
    },
    {
      "cell_type": "markdown",
      "source": [],
      "metadata": {
        "id": "6z746UJAJzJp"
      }
    },
    {
      "cell_type": "code",
      "execution_count": 3,
      "metadata": {
        "colab": {
          "base_uri": "https://localhost:8080/"
        },
        "id": "g1-XWQfCF6DT",
        "outputId": "972ed432-17ab-487c-b71e-b1a7351d4093"
      },
      "outputs": [
        {
          "output_type": "stream",
          "name": "stderr",
          "text": [
            "ERROR:root:Division by zero attempted.\n",
            "ERROR:root:Traceback (most recent call last):\n",
            "  File \"/tmp/ipython-input-92700153.py\", line 14, in divide\n",
            "    result = a / b\n",
            "             ~~^~~\n",
            "ZeroDivisionError: division by zero\n",
            "\n"
          ]
        },
        {
          "output_type": "stream",
          "name": "stdout",
          "text": [
            "Result = 5.0\n",
            " Error: Division by zero is not allowed!\n",
            " Program executed. Check 'error_log.log' for error details.\n"
          ]
        }
      ],
      "source": [
        "#Q3. Write a Python program that logs an error message to a log file when a division by zero exception occurs.\n",
        "import logging\n",
        "import traceback\n",
        "\n",
        "\n",
        "logging.basicConfig(\n",
        "    filename='error_log.log',\n",
        "    level=logging.ERROR,\n",
        "    format='%(asctime)s - %(levelname)s - %(message)s'\n",
        ")\n",
        "\n",
        "def divide(a, b):\n",
        "    \"\"\"Function to perform division and handle ZeroDivisionError\"\"\"\n",
        "    try:\n",
        "        result = a / b\n",
        "        print(f\"Result = {result}\")\n",
        "    except ZeroDivisionError as e:\n",
        "\n",
        "        logging.error(\"Division by zero attempted.\")\n",
        "        logging.error(traceback.format_exc())\n",
        "        print(\" Error: Division by zero is not allowed!\")\n",
        "\n",
        "\n",
        "divide(10, 2)\n",
        "divide(5, 0)\n",
        "\n",
        "print(\" Program executed. Check 'error_log.log' for error details.\")\n"
      ]
    },
    {
      "cell_type": "code",
      "source": [
        "#Q4.Write a Python program that reads from one file and writes its content to another file.\n",
        "  # Python program to copy content from one file to another\n",
        "\n",
        "def copy_file(source_file, destination_file):\n",
        "    try:\n",
        "        # Open source file in read mode and destination file in write mode\n",
        "        with open(source_file, 'r') as src, open(destination_file, 'w') as dest:\n",
        "            # Read content from source\n",
        "            content = src.read()\n",
        "            # Write content into destination\n",
        "            dest.write(content)\n",
        "        print(\"File copied successfully!\")\n",
        "    except FileNotFoundError:\n",
        "        print(\"Error: Source file not found.\")\n",
        "    except IOError as e:\n",
        "        print(\" Input/Output error:\", e)\n",
        "\n",
        "# Test the function\n",
        "copy_file('input.txt', 'output.txt')\n"
      ],
      "metadata": {
        "colab": {
          "base_uri": "https://localhost:8080/"
        },
        "id": "lfaMAMhzKFrA",
        "outputId": "b6e309f9-19ee-47e1-fbaa-db7c9a849c5a"
      },
      "execution_count": 4,
      "outputs": [
        {
          "output_type": "stream",
          "name": "stdout",
          "text": [
            "Error: Source file not found.\n"
          ]
        }
      ]
    },
    {
      "cell_type": "code",
      "source": [
        "#Q5. Write a program that handles both IndexError and KeyError using a try-except block.\n",
        "\n",
        "my_list = [10, 20, 30]\n",
        "my_dict = {'a': 1, 'b': 2}\n",
        "\n",
        "try:\n",
        "\n",
        "    print(\"Accessing list element:\", my_list[5])\n",
        "\n",
        "\n",
        "    print(\"Accessing dictionary value:\", my_dict['c'])\n",
        "\n",
        "except IndexError as e:\n",
        "    print(\"Caught an IndexError:\", e)\n",
        "\n",
        "except KeyError as e:\n",
        "    print(\"Caught a KeyError:\", e)\n",
        "\n",
        "print(\"Program continues after handling exceptions.\")\n"
      ],
      "metadata": {
        "colab": {
          "base_uri": "https://localhost:8080/"
        },
        "id": "cSEZaWelLcrB",
        "outputId": "4b4b5dd8-0c92-4bff-ea6d-63dfa14026ad"
      },
      "execution_count": 5,
      "outputs": [
        {
          "output_type": "stream",
          "name": "stdout",
          "text": [
            "Caught an IndexError: list index out of range\n",
            "Program continues after handling exceptions.\n"
          ]
        }
      ]
    },
    {
      "cell_type": "code",
      "source": [
        "#Q8.  Create a histogram using Seaborn to visualize a distribution.\n",
        "\n",
        "import seaborn as sns\n",
        "import matplotlib.pyplot as plt\n",
        "\n",
        "\n",
        "data = [12, 15, 13, 18, 19, 21, 20, 17, 16, 18, 15, 14, 19, 21, 22]\n",
        "\n",
        "\n",
        "sns.histplot(data, bins=6, kde=True, color='skyblue')\n",
        "\n",
        "\n",
        "plt.title(\"Histogram of Sample Data\")\n",
        "plt.xlabel(\"Value\")\n",
        "plt.ylabel(\"Frequency\")\n",
        "\n",
        "\n",
        "plt.show()\n"
      ],
      "metadata": {
        "colab": {
          "base_uri": "https://localhost:8080/",
          "height": 472
        },
        "id": "6VyqBLeGL6pC",
        "outputId": "5d178a0e-5cd2-452f-8f6d-b921e55f6d1a"
      },
      "execution_count": 6,
      "outputs": [
        {
          "output_type": "display_data",
          "data": {
            "text/plain": [
              "<Figure size 640x480 with 1 Axes>"
            ],
            "image/png": "[encoded data removed]"
          },
          "metadata": {}
        }
      ]
    },
    {
      "cell_type": "code",
      "source": [
        "#Q9. Use Pandas to load a CSV file and display its first 5 rows.\n",
        "\n",
        "\n",
        "import pandas as pd\n",
        "\n",
        "file_path = 'your_file.csv'\n",
        "\n",
        "try:\n",
        "\n",
        "    df = pd.read_csv(file_path)\n",
        "\n",
        "\n",
        "    print(\"First 5 rows of the CSV file:\")\n",
        "    print(df.head())\n",
        "\n",
        "except FileNotFoundError:\n",
        "    print(f\"Error: The file '{file_path}' was not found. Please check the path.\")\n",
        "\n",
        "except pd.errors.EmptyDataError:\n",
        "    print(f\"Error: The file '{file_path}' is empty.\")\n",
        "\n",
        "except pd.errors.ParserError:\n",
        "    print(f\"Error: The file '{file_path}' could not be parsed as CSV.\")\n",
        "\n"
      ],
      "metadata": {
        "colab": {
          "base_uri": "https://localhost:8080/"
        },
        "id": "V5w93VK6L-s5",
        "outputId": "2a728e89-9af8-4a63-9f92-1444de5cbbf3"
      },
      "execution_count": 10,
      "outputs": [
        {
          "output_type": "stream",
          "name": "stdout",
          "text": [
            "Error: The file 'your_file.csv' was not found. Please check the path.\n"
          ]
        }
      ]
    },
    {
      "cell_type": "code",
      "source": [
        "#Q10. Calculate the correlation matrix using Seaborn and visualize it with a heatmap.\n",
        "\n",
        "import pandas as pd\n",
        "import seaborn as sns\n",
        "import matplotlib.pyplot as plt\n",
        "\n",
        "\n",
        "data = {\n",
        "    'Math': [85, 90, 78, 92, 88],\n",
        "    'Science': [80, 85, 79, 95, 90],\n",
        "    'English': [78, 83, 74, 89, 85],\n",
        "    'History': [82, 87, 77, 91, 88]\n",
        "}\n",
        "\n",
        "# Create a DataFrame\n",
        "df = pd.DataFrame(data)\n",
        "\n",
        "# Calculate the correlation matrix\n",
        "corr_matrix = df.corr()\n",
        "\n",
        "# Display the correlation matrix\n",
        "print(\"Correlation Matrix:\")\n",
        "print(corr_matrix)\n",
        "\n",
        "# Visualize the correlation matrix using a heatmap\n",
        "sns.heatmap(corr_matrix, annot=True, cmap='coolwarm', linewidths=0.5)\n",
        "plt.title(\"Correlation Heatmap\")\n",
        "plt.show()\n"
      ],
      "metadata": {
        "colab": {
          "base_uri": "https://localhost:8080/",
          "height": 556
        },
        "id": "mrO8SA-VNKh-",
        "outputId": "896f92e3-a61e-4335-e42b-10f686debe08"
      },
      "execution_count": 11,
      "outputs": [
        {
          "output_type": "stream",
          "name": "stdout",
          "text": [
            "Correlation Matrix:\n",
            "             Math   Science   English   History\n",
            "Math     1.000000  0.816998  0.937593  0.970215\n",
            "Science  0.816998  1.000000  0.965547  0.924083\n",
            "English  0.937593  0.965547  1.000000  0.991323\n",
            "History  0.970215  0.924083  0.991323  1.000000\n"
          ]
        },
        {
          "output_type": "display_data",
          "data": {
            "text/plain": [
              "<Figure size 640x480 with 2 Axes>"
            ],
            "image/png": "[encoded data removed]"
          },
          "metadata": {}
        }
      ]
    },
    {
      "cell_type": "code",
      "source": [],
      "metadata": {
        "id": "veJMDk7kNcux"
      },
      "execution_count": null,
      "outputs": []
    }
  ]
}